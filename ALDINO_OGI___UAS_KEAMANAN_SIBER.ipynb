{
  "nbformat": 4,
  "nbformat_minor": 0,
  "metadata": {
    "colab": {
      "provenance": []
    },
    "kernelspec": {
      "name": "python3",
      "display_name": "Python 3"
    },
    "language_info": {
      "name": "python"
    }
  },
  "cells": [
    {
      "cell_type": "markdown",
      "source": [
        "# Aldino Ogi NIM. I.2111732"
      ],
      "metadata": {
        "id": "pHcc4jPpk2P8"
      }
    },
    {
      "cell_type": "markdown",
      "source": [
        "# No. 1\n",
        "Perbedaan dari reverse proxy dengan forward proxy bisa dilihat dari arah dan cara kerjanya.\n",
        "\n",
        "\n",
        "<br>Pertama\n",
        "Reverse proxy bekerja dengan menerima permintaan dari client dan meneruskan ke server internal tanpa mengetahui posisi server,sedangkan\n",
        "forward proxy meneruskan permintaan dari client ke server eksternal dengan server tidak mengetahui identitas client.\n",
        "\n",
        "\n",
        "<br>Kedua\n",
        "Reverse Proxy digunakan untuk keamanan, kinerja, dan manajemen beban. Menyembunyikan server internal dari klien dan dapat menangani tugas seperti SSL termination, caching, dan load balancing, sedangkan\n",
        "Forward Proxy digunakan untuk menyediakan anonimitas kepada klien dan memonitor atau mengontrol akses ke konten eksternal. Dapat digunakan untuk memfilter lalu lintas dan menerapkan kebijakan keamanan."
      ],
      "metadata": {
        "id": "p0lQKcv4lBBP"
      }
    },
    {
      "cell_type": "markdown",
      "source": [
        "# No. 2\n",
        "\n",
        "Metasploit framework yaitu alat pengujian penetrasi yang berfokus pada pengembangan dan pengoperasian aset keamanan. Dikembangkan oleh Rapid7, Metasploit dirancang untuk membantu profesional keamanan dan peneliti keamanan mengidentifikasi dan mengeksploitasi kerentanan sistem.\n",
        "\n",
        "<br>Biasanya digunakan untuk pengujian penetrasi, identifikasi kerentanan, pengembangan keamanan\n",
        "dan penelitian keamanan."
      ],
      "metadata": {
        "id": "70XEJZwfm4wt"
      }
    },
    {
      "cell_type": "markdown",
      "source": [
        "# No. 3\n",
        "\n",
        "Perbedaan firewall, IDS (Intrusion Detection System) dan IPS (Intrusion Prevention System) terletak pada fokus kerjanya\n",
        "\n",
        "<br>Firewall berfokus pada mengontrol lalu lintas jaringan dan memberikan kontrol akses.\n",
        "\n",
        "<br>IDS berfokus pada mendeteksi aktivitas mencurigakan dan memberikan peringatan.\n",
        "\n",
        "<br>IPS berfokus pada mendeteksi, memberikan peringatan, dan secara aktif mencegah serangan.\n",
        "\n"
      ],
      "metadata": {
        "id": "fSUmGWp6oFCH"
      }
    },
    {
      "cell_type": "markdown",
      "source": [
        "# No. 4\n",
        "GDPR (General Data Protection Regulation) yaitu peraturan privasi dan perlindungan data yang diberlakukan di Uni Eropa pada tanggal 25 mei 2018. GDPR berisikan tentang perlindungan hak dan privasi individu.\n",
        "\n",
        "<br>\n",
        "PDP (Personal Data Protection) yaitu peraturan yang diimplementasikan untuk melindungi informasi pribadi individu dari pengumpulan, pemrosesan, dan penggunaan yang tidak sah oleh pihak ketiga. Tujuannya agar informasi pribadi tercegah dari penyalahgunaan data.PDP berlaku pada negara-negara tertentu yang mengaturnya. Di Indonesia PDP diantaranya:\n",
        "1. Perlindungan data pribadi diatur oleh Undang-Undang Nomor 11 Tahun 2008 tentang Informasi dan Transaksi Elektronik (UU ITE) yang kemudian dilengkapi dengan Peraturan Pemerintah Republik Indonesia Nomor 82 Tahun 2012 tentang Penyelenggaraan Sistem dan Transaksi Elektronik (PP ITE).\n",
        "2. UU Nomor 27 tahun 2022\n",
        "UU ini mengatur mengenai asas, jenis data pribadi, hak subjek data pribadi, pemrosesan data pribadi, kewajiban pengendali data pribadi dan prosesor data pribadi dalam pemrosesan data pribadi, transfer data pribadi, sanksi administratif, kelembagaan,kerja sama internasional, partisipasi masyarakat, penyelesaian sengketa dan hukum acara; larangan dalam penggunaan data pribadi, dan ketentuan pidana terkait pelindungan data pribadi. Pelindungan Data Pribadi adalah keseluruhan upaya untuk melindungi Data Pribadi dalam rangkaian pemrosesan Data Pribadi guna menjamin hak konstitusional subjek Data Pribadi."
      ],
      "metadata": {
        "id": "2kihR9kdpPex"
      }
    },
    {
      "cell_type": "markdown",
      "source": [
        "# No. 5\n",
        "\n",
        "OWASP (Open Web Application Security Project) yaitu organisasi nirlaba internasional yang didesikan untuk meningkatkan keamanan perangkat lunak. OWASP berfokus khusus pada keamanan aplikasi web dan menyediakan sumber daya, pedoman, dan alat untuk membantu organisasi dan profesional keamanan memahami, mengidentifikasi, dan mengatasi risiko keamanan yang terkait dengan pengembangan aplikasi web.\n",
        "\n",
        "<br> Dengan terbentuknya menjadi organisasi internasional maka OWASP menjadi acuan dalam konteks keamanan perangkat lunak. Acuan ini pun tentu dengan beberapa alasan seperti:\n",
        "1. Adanya OWASP Top 10 atau daftar risiko keamanan aplikasi web paling umum.\n",
        "2. Komunitas global yang aktif\n",
        "3. Open source\n",
        "4. OWASP menyediakan Panduan Standar Keamanan Aplikasi (ASVS)"
      ],
      "metadata": {
        "id": "aJAY_dXBs6Kc"
      }
    },
    {
      "cell_type": "markdown",
      "source": [
        "# No. 6\n",
        "\n",
        "Link Badge Keamanan Siber\n",
        "https://www.credly.com/badges/593ed2f9-f58f-4b71-b53f-8a34669a3aa3/public_url\n"
      ],
      "metadata": {
        "id": "o5O8bnPvuXRC"
      }
    }
  ]
}